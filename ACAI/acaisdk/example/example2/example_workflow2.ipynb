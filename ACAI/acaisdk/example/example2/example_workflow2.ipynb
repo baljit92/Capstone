{
 "cells": [
  {
   "cell_type": "code",
   "execution_count": null,
   "metadata": {},
   "outputs": [],
   "source": [
    "import os\n",
    "import sys\n",
    "sys.path.append(os.path.dirname(os.path.realpath('__file__')) + '/../../../')\n",
    "from acaisdk.file import File\n",
    "from acaisdk.project import Project\n",
    "from acaisdk.fileset import FileSet\n",
    "from acaisdk.job import Job, JobStatus\n",
    "from acaisdk.meta import *\n",
    "from acaisdk.utils import utils\n",
    "from acaisdk import credentials\n",
    "\n",
    "workspace = os.path.dirname(os.path.realpath('__file__'))\n",
    "utils.DEBUG = True  # print debug messages. Calls are successful as long as no exception is thrown."
   ]
  },
  {
   "cell_type": "code",
   "execution_count": null,
   "metadata": {},
   "outputs": [],
   "source": [
    "# Make your changes here\n",
    "project_id = \"AnotherAwesomeProject\"\n",
    "root_token = 'Ask sys guys for the root token'\n",
    "project_admin = 'allen'\n",
    "user = 'albert'"
   ]
  },
  {
   "cell_type": "code",
   "execution_count": null,
   "metadata": {},
   "outputs": [],
   "source": [
    "# Create project and user\n",
    "r = Project.create_project(project_id, root_token, project_admin)\n",
    "r = Project.create_user(project_id, r['project_admin_token'], user)  # the new user is logged in automatically."
   ]
  },
  {
   "cell_type": "code",
   "execution_count": null,
   "metadata": {},
   "outputs": [],
   "source": [
    "# You can take note of the new token\n",
    "token = r['user_token']\n",
    "print(token)\n",
    "\n",
    "# Next time you can use the token to login:\n",
    "# credentials.login(token)"
   ]
  },
  {
   "cell_type": "code",
   "execution_count": null,
   "metadata": {},
   "outputs": [],
   "source": [
    "# Upload code\n",
    "train_code = os.path.join(workspace, 'demo/train_scripts.zip')\n",
    "eval_code = os.path.join(workspace, 'demo/eval_script.zip')\n",
    "File.upload({train_code: 'train_scripts.zip',\n",
    "             eval_code: 'eval_script.zip'\n",
    "            })"
   ]
  },
  {
   "cell_type": "code",
   "execution_count": null,
   "metadata": {},
   "outputs": [],
   "source": [
    "# You can inspect the uploaded files\n",
    "File.list_dir('/')"
   ]
  },
  {
   "cell_type": "code",
   "execution_count": null,
   "metadata": {},
   "outputs": [],
   "source": [
    "# Upload input files and create a new file set on the fly\n",
    "input_dir = os.path.join(workspace, 'demo/dataset/train/')\n",
    "File.convert_to_file_mapping([input_dir], 'dataset/')[0]\\\n",
    "    .upload()\\\n",
    "    .as_new_file_set('train_dataset')"
   ]
  },
  {
   "cell_type": "code",
   "execution_count": null,
   "metadata": {},
   "outputs": [],
   "source": [
    "# Run a training job, it takes ~3 mins to finish\n",
    "job_setting = {\n",
    "    \"v_cpu\": \"0.5\",\n",
    "    \"memory\": \"2000Mi\",\n",
    "    \"gpu\": \"0\",\n",
    "    \"command\": \"python3 train.py --output_folder ./my_output/train_out/ \"\n",
    "               \"--train_data ./dataset/train/ \"\n",
    "               \"--dev_data ./dataset/validation/ \"\n",
    "               \"--epoch 10 \"\n",
    "               \"--hidden 10 5\",\n",
    "    \"container_image\": \"pytorch/pytorch\",\n",
    "    'input_file_set': 'train_dataset',\n",
    "    'output_path': './my_output/train_out/',\n",
    "    'code': 'train_scripts.zip',\n",
    "    'description': 'train an image classification model',\n",
    "    'name': 'my_acai_job'\n",
    "}\n",
    "\n",
    "train_job = Job().with_attributes(job_setting).register().run()"
   ]
  },
  {
   "cell_type": "code",
   "execution_count": null,
   "metadata": {},
   "outputs": [],
   "source": [
    "# Wait until finish, in the mean time, you can login the \n",
    "# dashboard with your token and check the job status.\n",
    "\n",
    "status = train_job.wait()\n",
    "if status == JobStatus.FINISHED:\n",
    "    output_file_set = train_job.output_file_set\n",
    "    print(\"Job done. output file set id:\", output_file_set)\n",
    "else:\n",
    "    print(\"Job went wrong:\", status)"
   ]
  },
  {
   "cell_type": "code",
   "execution_count": null,
   "metadata": {},
   "outputs": [],
   "source": [
    "# Take a look at what's in the output folder\n",
    "File.list_dir('my_output/train_out/')"
   ]
  },
  {
   "cell_type": "code",
   "execution_count": null,
   "metadata": {},
   "outputs": [],
   "source": [
    "input_dir = os.path.join(workspace, 'demo/dataset/eval')\n",
    "File.convert_to_file_mapping([input_dir], 'dataset/eval/')[0]\\\n",
    "    .upload()\\\n",
    "    .as_new_file_set('eval_dataset')"
   ]
  },
  {
   "cell_type": "code",
   "execution_count": null,
   "metadata": {},
   "outputs": [],
   "source": [
    "# Create a new file set that contains eval dataset and output model.\n",
    "# Since all files we need are in their file set, we can simply create \n",
    "# the new file set out of the two existing ones.\n",
    "FileSet.create_file_set('eval_data_and_model', ['@'+output_file_set, '@eval_dataset'])"
   ]
  },
  {
   "cell_type": "code",
   "execution_count": null,
   "metadata": {},
   "outputs": [],
   "source": [
    "# ============= EVALUATION ==============\n",
    "# Run a training job\n",
    "job_setting_eval = {\n",
    "    \"v_cpu\": \"0.5\",\n",
    "    \"memory\": \"500Mi\",\n",
    "    \"gpu\": \"0\",\n",
    "    \"command\": \"python3 eval.py --output_folder ./my_output/eval_out/ \"\n",
    "               \"--eval_data ./dataset/eval/ \"\n",
    "               \"--model ./my_output/train_out/network.npy \",\n",
    "    \"container_image\": \"pytorch/pytorch\",\n",
    "    'input_file_set': 'eval_data_and_model',\n",
    "    'output_path': './my_output/eval_out/',\n",
    "    'code': 'eval_script.zip',\n",
    "    'description': 'evaluate an image classification model',\n",
    "    'name': 'my_acai_job_2'\n",
    "}\n",
    "\n",
    "eval_job = Job().with_attributes(job_setting_eval).register().run()"
   ]
  },
  {
   "cell_type": "code",
   "execution_count": null,
   "metadata": {},
   "outputs": [],
   "source": [
    "status = eval_job.wait()\n",
    "if status == JobStatus.FINISHED:\n",
    "    output_file_set = eval_job.output_file_set\n",
    "    print(\"Job done. output file set id:\", output_file_set)\n",
    "else:\n",
    "    print(\"Job went wrong:\", status)"
   ]
  },
  {
   "cell_type": "code",
   "execution_count": null,
   "metadata": {},
   "outputs": [],
   "source": [
    "# Download the result to local device\n",
    "File.download({'/my_output/eval_out/eval_result.csv': workspace})"
   ]
  },
  {
   "cell_type": "code",
   "execution_count": null,
   "metadata": {},
   "outputs": [],
   "source": [
    "# Check out the evaluation output\n",
    "with open(os.path.join(workspace, 'eval_result.csv')) as f:\n",
    "    for i, l in enumerate(f):\n",
    "        print(l, end='')"
   ]
  },
  {
   "cell_type": "code",
   "execution_count": null,
   "metadata": {},
   "outputs": [],
   "source": []
  }
 ],
 "metadata": {
  "kernelspec": {
   "display_name": "Python 3",
   "language": "python",
   "name": "python3"
  },
  "language_info": {
   "codemirror_mode": {
    "name": "ipython",
    "version": 3
   },
   "file_extension": ".py",
   "mimetype": "text/x-python",
   "name": "python",
   "nbconvert_exporter": "python",
   "pygments_lexer": "ipython3",
   "version": "3.7.1"
  }
 },
 "nbformat": 4,
 "nbformat_minor": 2
}
