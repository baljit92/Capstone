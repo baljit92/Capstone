{
 "cells": [
  {
   "cell_type": "code",
   "execution_count": null,
   "metadata": {},
   "outputs": [],
   "source": [
    "import os\n",
    "import sys\n",
    "sys.path.append(os.path.dirname(os.path.realpath('__file__')) + '/../../../')\n",
    "from acaisdk.file import File\n",
    "from acaisdk.project import Project\n",
    "from acaisdk.fileset import FileSet\n",
    "from acaisdk.job import Job\n",
    "from acaisdk.meta import *\n",
    "from acaisdk.utils import utils\n",
    "from acaisdk import credentials\n",
    "\n",
    "utils.DEBUG = True  # print debug messages\n",
    "workspace = os.path.dirname(os.path.realpath('__file__'))  # get current directory"
   ]
  },
  {
   "cell_type": "code",
   "execution_count": null,
   "metadata": {},
   "outputs": [],
   "source": [
    "# Make your changes here\n",
    "project_id = \"your_project_name\"\n",
    "root_token = 'Ask sys guys for the root token'\n",
    "project_admin = 'allen'\n",
    "user = 'albert'"
   ]
  },
  {
   "cell_type": "code",
   "execution_count": null,
   "metadata": {},
   "outputs": [],
   "source": [
    "# Create project and user\n",
    "r = Project.create_project(project_id, root_token, project_admin)\n",
    "# Login is done automatically upon user creation\n",
    "r = Project.create_user(project_id, r['project_admin_token'], user)  "
   ]
  },
  {
   "cell_type": "code",
   "execution_count": null,
   "metadata": {},
   "outputs": [],
   "source": [
    "# you can inspect your token in multiple ways\n",
    "print(r['user_token'])\n",
    "print(os.environ['ACAI_TOKEN'])\n",
    "print(credentials.get_credentials())"
   ]
  },
  {
   "cell_type": "code",
   "execution_count": null,
   "metadata": {},
   "outputs": [],
   "source": [
    "# Upload code\n",
    "code = os.path.join(workspace, 'wordcount.zip')\n",
    "File.upload({code: '/wordcount.zip'})"
   ]
  },
  {
   "cell_type": "code",
   "execution_count": null,
   "metadata": {},
   "outputs": [],
   "source": [
    "credentials.login('8gyszGh9LaR1uk90cfrdXpahZZxXFSFt')"
   ]
  },
  {
   "cell_type": "code",
   "execution_count": null,
   "metadata": {},
   "outputs": [],
   "source": [
    "# Upload input files and create file set\n",
    "input_dir = os.path.join(workspace, 'Shakespeare')\n",
    "File.convert_to_file_mapping([input_dir], 'Shakespeare/') \\\n",
    "    .files_to_upload \\\n",
    "    .upload() \\\n",
    "    .as_new_file_set('shakespeare.works')"
   ]
  },
  {
   "cell_type": "code",
   "execution_count": null,
   "metadata": {},
   "outputs": [],
   "source": [
    "# Run a job\n",
    "job_setting = {\n",
    "    \"v_cpu\": \"0.2\",\n",
    "    \"memory\": \"64Mi\",\n",
    "    \"gpu\": \"0\",\n",
    "    \"command\": \"mkdir -p ./my_output/ && (cat Shakespeare/* | python3 wordcount.py ./my_output/)\",\n",
    "    \"container_image\": \"pytorch/pytorch\",\n",
    "    'input_file_set': 'shakespeare.works',\n",
    "    'output_path': './my_output/',\n",
    "    'code': '/wordcount.zip',\n",
    "    'description': 'count some words from Shakespeare works',\n",
    "    'name': 'my_acai_job'\n",
    "}\n",
    "\n",
    "j = Job().with_attributes(job_setting).run()"
   ]
  },
  {
   "cell_type": "code",
   "execution_count": null,
   "metadata": {},
   "outputs": [],
   "source": [
    "# Take a look at what's in the output folder\n",
    "File.list_dir('/my_output')"
   ]
  },
  {
   "cell_type": "code",
   "execution_count": null,
   "metadata": {},
   "outputs": [],
   "source": [
    "# Download the result to local device\n",
    "File.download({'/my_output/wordcount.txt': workspace})"
   ]
  },
  {
   "cell_type": "code",
   "execution_count": null,
   "metadata": {},
   "outputs": [],
   "source": [
    "# Inspect the 50 most frequent words\n",
    "with open(os.path.join(workspace, 'wordcount.txt')) as f:\n",
    "    for i, l in enumerate(f):\n",
    "        if i >= 50:\n",
    "            break\n",
    "        print(l, end='')"
   ]
  },
  {
   "cell_type": "code",
   "execution_count": null,
   "metadata": {},
   "outputs": [],
   "source": []
  }
 ],
 "metadata": {
  "kernelspec": {
   "display_name": "Python 3",
   "language": "python",
   "name": "python3"
  },
  "language_info": {
   "codemirror_mode": {
    "name": "ipython",
    "version": 3
   },
   "file_extension": ".py",
   "mimetype": "text/x-python",
   "name": "python",
   "nbconvert_exporter": "python",
   "pygments_lexer": "ipython3",
   "version": "3.7.1"
  }
 },
 "nbformat": 4,
 "nbformat_minor": 2
}
