{
 "cells": [
  {
   "cell_type": "code",
   "execution_count": 13,
   "metadata": {},
   "outputs": [],
   "source": [
    "filename = \"topicclass_valid.txt\"\n",
    "tr_data = []\n",
    "with open(filename, \"r\") as f:\n",
    "    for line in f:\n",
    "        tag, words = line.lower().strip().split(\" ||| \")\n",
    "        tr_data.append({\"tag\": tag, \"words\": words})\n",
    "\n",
    "filename = \"topicclass_valid.txt\"\n",
    "val_data = []\n",
    "with open(filename, \"r\") as f:\n",
    "    for line in f:\n",
    "        tag, words = line.lower().strip().split(\" ||| \")\n",
    "        val_data.append({\"tag\": tag, \"words\": words})\n",
    "        \n",
    "data = {\"train\": tr_data[:80], \"valid\": val_data[:20]}"
   ]
  },
  {
   "cell_type": "code",
   "execution_count": 14,
   "metadata": {},
   "outputs": [],
   "source": [
    "import json\n",
    "json.dump(data, open(\"topicclass.json\",\"w+\"))"
   ]
  },
  {
   "cell_type": "code",
   "execution_count": null,
   "metadata": {},
   "outputs": [],
   "source": []
  }
 ],
 "metadata": {
  "kernelspec": {
   "display_name": "Python 3",
   "language": "python",
   "name": "python3"
  },
  "language_info": {
   "codemirror_mode": {
    "name": "ipython",
    "version": 3
   },
   "file_extension": ".py",
   "mimetype": "text/x-python",
   "name": "python",
   "nbconvert_exporter": "python",
   "pygments_lexer": "ipython3",
   "version": "3.6.8"
  }
 },
 "nbformat": 4,
 "nbformat_minor": 2
}
